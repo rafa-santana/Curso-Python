{
  "nbformat": 4,
  "nbformat_minor": 0,
  "metadata": {
    "colab": {
      "name": "Untitled0.ipynb",
      "provenance": [],
      "authorship_tag": "ABX9TyP6fUNLAqInbHehCqxoz0YK",
      "include_colab_link": true
    },
    "kernelspec": {
      "name": "python3",
      "display_name": "Python 3"
    },
    "language_info": {
      "name": "python"
    }
  },
  "cells": [
    {
      "cell_type": "markdown",
      "metadata": {
        "id": "view-in-github",
        "colab_type": "text"
      },
      "source": [
        "<a href=\"https://colab.research.google.com/github/rafa-santana/Curso-Python/blob/main/Gr%C3%A1ficos%20com%20python.ipynb\" target=\"_parent\"><img src=\"https://colab.research.google.com/assets/colab-badge.svg\" alt=\"Open In Colab\"/></a>"
      ]
    },
    {
      "cell_type": "markdown",
      "metadata": {
        "id": "QBB5hHgovCpB"
      },
      "source": [
        "#CONSTRUÇÃO DE GRÁFICOS EM PYTHON - ANÁLISE DE DADOS"
      ]
    },
    {
      "cell_type": "markdown",
      "metadata": {
        "id": "5WYIgoi-vUf5"
      },
      "source": [
        "###INSTALAÇÃO DE BIBLIOTECAS"
      ]
    },
    {
      "cell_type": "code",
      "metadata": {
        "id": "astGbgNKvevJ"
      },
      "source": [
        ""
      ],
      "execution_count": null,
      "outputs": []
    },
    {
      "cell_type": "markdown",
      "metadata": {
        "id": "_imY2Gl4vfQU"
      },
      "source": [
        "###IMPORTAÇÃO DAS BIBLIOTECAS"
      ]
    },
    {
      "cell_type": "code",
      "metadata": {
        "id": "bbQNWn-gvopz"
      },
      "source": [
        ""
      ],
      "execution_count": null,
      "outputs": []
    },
    {
      "cell_type": "markdown",
      "metadata": {
        "id": "Sk_N7rOwvpgr"
      },
      "source": [
        "###BAIXAR DADOS EM ANÁLISE"
      ]
    },
    {
      "cell_type": "code",
      "metadata": {
        "id": "hv7U1J3zv5PV"
      },
      "source": [
        ""
      ],
      "execution_count": null,
      "outputs": []
    }
  ]
}